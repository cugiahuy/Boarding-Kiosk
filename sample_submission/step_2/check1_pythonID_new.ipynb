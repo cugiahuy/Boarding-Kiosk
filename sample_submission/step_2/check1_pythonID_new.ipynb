{
 "cells": [
  {
   "cell_type": "code",
   "execution_count": 11,
   "metadata": {},
   "outputs": [
    {
     "name": "stdout",
     "output_type": "stream",
     "text": [
      "--------Recognizing ID document #1--------\n",
      "First Name: AVKASH CHAUHAN has confidence: 0.971\n",
      "Last Name: CHAUHAN has confidence: 0.967\n",
      "Document Number: D1234578 has confidence: 0.99\n",
      "Date of Birth: 1990-01-01 has confidence: 0.99\n",
      "Date of Expiration: 2025-01-01 has confidence: 0.99\n",
      "Address: AddressValue(house_number=1234, po_box=None, road=Circle Ave, city=San Mateo, state=CA, postal_code=94401, country_region=None, street_address=1234 Circle Ave Apt 123) has confidence: 0.99\n",
      "Country/Region: USA has confidence: 0.995\n",
      "Region: California has confidence: 0.99\n"
     ]
    }
   ],
   "source": [
    "from azure.core.credentials import AzureKeyCredential\n",
    "from azure.ai.formrecognizer import DocumentAnalysisClient \n",
    "\n",
    "endpoint = \"https://boardingpassreg.cognitiveservices.azure.com/\"\n",
    "key = \"38bfe06ba90e425bb30518e8e510b79c\"\n",
    "\n",
    "# sample document\n",
    "formUrl = \"https://flightstorage.blob.core.windows.net/flightmanifest/ca-dl-avkash.png\"\n",
    "\n",
    "document_analysis_client = DocumentAnalysisClient(\n",
    "        endpoint=endpoint, credential=AzureKeyCredential(key)\n",
    "    )\n",
    "    \n",
    "poller = document_analysis_client.begin_analyze_document_from_url(\"prebuilt-idDocument\", formUrl)\n",
    "id_documents = poller.result()\n",
    "\n",
    "for idx, id_document in enumerate(id_documents.documents):\n",
    "    print(\"--------Recognizing ID document #{}--------\".format(idx + 1))\n",
    "    first_name = id_document.fields.get(\"FirstName\")\n",
    "    if first_name:\n",
    "        print(\n",
    "            \"First Name: {} has confidence: {}\".format(\n",
    "                first_name.value, first_name.confidence\n",
    "            )\n",
    "        )\n",
    "    last_name = id_document.fields.get(\"LastName\")\n",
    "    if last_name:\n",
    "        print(\n",
    "            \"Last Name: {} has confidence: {}\".format(\n",
    "                last_name.value, last_name.confidence\n",
    "            )\n",
    "        )\n",
    "    document_number = id_document.fields.get(\"DocumentNumber\")\n",
    "    if document_number:\n",
    "        print(\n",
    "            \"Document Number: {} has confidence: {}\".format(\n",
    "                document_number.value, document_number.confidence\n",
    "            )\n",
    "        )\n",
    "    dob = id_document.fields.get(\"DateOfBirth\")\n",
    "    if dob:\n",
    "        print(\n",
    "            \"Date of Birth: {} has confidence: {}\".format(dob.value, dob.confidence)\n",
    "        )\n",
    "    doe = id_document.fields.get(\"DateOfExpiration\")\n",
    "    if doe:\n",
    "        print(\n",
    "            \"Date of Expiration: {} has confidence: {}\".format(\n",
    "                doe.value, doe.confidence\n",
    "            )\n",
    "        )\n",
    "    sex = id_document.fields.get(\"Sex\")\n",
    "    if sex:\n",
    "        print(\"Sex: {} has confidence: {}\".format(sex.value, sex.confidence))\n",
    "    address = id_document.fields.get(\"Address\")\n",
    "    if address:\n",
    "        print(\n",
    "            \"Address: {} has confidence: {}\".format(\n",
    "                address.value, address.confidence\n",
    "            )\n",
    "        )\n",
    "    country_region = id_document.fields.get(\"CountryRegion\")\n",
    "    if country_region:\n",
    "        print(\n",
    "            \"Country/Region: {} has confidence: {}\".format(\n",
    "                country_region.value, country_region.confidence\n",
    "            )\n",
    "        )\n",
    "    region = id_document.fields.get(\"Region\")\n",
    "    if region:\n",
    "        print(\n",
    "            \"Region: {} has confidence: {}\".format(region.value, region.confidence)\n",
    "        )\n"
   ]
  }
 ],
 "metadata": {
  "kernelspec": {
   "display_name": "base",
   "language": "python",
   "name": "python3"
  },
  "language_info": {
   "codemirror_mode": {
    "name": "ipython",
    "version": 3
   },
   "file_extension": ".py",
   "mimetype": "text/x-python",
   "name": "python",
   "nbconvert_exporter": "python",
   "pygments_lexer": "ipython3",
   "version": "3.9.12"
  },
  "orig_nbformat": 4,
  "vscode": {
   "interpreter": {
    "hash": "3bf3bac83a5cc5b6bc629e5c5817c0001600810eceb1d24e10e3be8fad0cd133"
   }
  }
 },
 "nbformat": 4,
 "nbformat_minor": 2
}
